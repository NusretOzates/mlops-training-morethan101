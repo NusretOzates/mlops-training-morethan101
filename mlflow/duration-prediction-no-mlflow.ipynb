{
 "cells": [
  {
   "cell_type": "markdown",
   "source": [
    "# Taxi Fare Prediction\n",
    "This is a toy example to show why not using experiment tracking tools such as MLFlow is a bad idea.\n",
    "Start with skimming through the notebook, try to see problems and then go back to the code and run it.\n",
    "\n",
    "You don't have to understand everything. Just try to see if you can spot the problems."
   ],
   "metadata": {
    "collapsed": false
   },
   "id": "b510a23b50d2b8a"
  },
  {
   "cell_type": "code",
   "execution_count": 19,
   "outputs": [],
   "source": [
    "import os\n",
    "import requests\n",
    "\n",
    "# Create necessary folders if not exists\n",
    "if not os.path.exists(\"data\"):\n",
    "    os.makedirs(\"data\")\n",
    "\n",
    "if not os.path.exists(\"models\"):\n",
    "    os.makedirs(\"models\")\n",
    "\n",
    "url = \"https://d37ci6vzurychx.cloudfront.net/trip-data/green_tripdata_2021-01.parquet\"\n",
    "file_content = requests.get(url, allow_redirects=True).content\n",
    "with open(\"./data/green_tripdata_2021-01.parquet\", \"wb\") as f:\n",
    "    f.write(file_content)\n",
    "\n",
    "url = \"https://d37ci6vzurychx.cloudfront.net/trip-data/green_tripdata_2021-02.parquet\"\n",
    "file_content = requests.get(url, allow_redirects=True).content\n",
    "with open(\"./data/green_tripdata_2021-02.parquet\", \"wb\") as f:\n",
    "    f.write(file_content)"
   ],
   "metadata": {
    "collapsed": false,
    "ExecuteTime": {
     "end_time": "2023-07-29T07:04:40.263096300Z",
     "start_time": "2023-07-29T07:04:39.395379800Z"
    }
   },
   "id": "51e9a490f464acfb"
  },
  {
   "cell_type": "markdown",
   "source": [
    "## Imports"
   ],
   "metadata": {
    "collapsed": false
   },
   "id": "b9b560e9a4df2505"
  },
  {
   "cell_type": "code",
   "execution_count": 3,
   "id": "41062d8a",
   "metadata": {
    "ExecuteTime": {
     "end_time": "2023-07-29T07:03:26.416239600Z",
     "start_time": "2023-07-29T07:03:26.411757500Z"
    }
   },
   "outputs": [],
   "source": [
    "import pandas as pd"
   ]
  },
  {
   "cell_type": "code",
   "execution_count": 4,
   "id": "c984c564",
   "metadata": {
    "ExecuteTime": {
     "end_time": "2023-07-29T07:03:26.828478800Z",
     "start_time": "2023-07-29T07:03:26.817802800Z"
    }
   },
   "outputs": [],
   "source": [
    "import pickle"
   ]
  },
  {
   "cell_type": "code",
   "execution_count": 5,
   "id": "4add538c",
   "metadata": {
    "ExecuteTime": {
     "end_time": "2023-07-29T07:03:27.164422400Z",
     "start_time": "2023-07-29T07:03:27.149997800Z"
    }
   },
   "outputs": [],
   "source": [
    "import seaborn as sns\n",
    "import matplotlib.pyplot as plt"
   ]
  },
  {
   "cell_type": "code",
   "execution_count": 6,
   "id": "8b135c2b",
   "metadata": {
    "ExecuteTime": {
     "end_time": "2023-07-29T07:03:35.747832300Z",
     "start_time": "2023-07-29T07:03:27.481491500Z"
    }
   },
   "outputs": [],
   "source": [
    "from sklearn.feature_extraction import DictVectorizer\n",
    "from sklearn.linear_model import LinearRegression\n",
    "from sklearn.linear_model import Lasso\n",
    "from sklearn.linear_model import Ridge\n",
    "\n",
    "from sklearn.metrics import mean_squared_error"
   ]
  },
  {
   "cell_type": "markdown",
   "source": [
    "## Data\n",
    "We will use the Green Taxi data from NYC. The data is available at https://www1.nyc.gov/site/tlc/about/tlc-trip-record-data.page and we will use the data for January 2021.\n",
    "The data is available in CSV and Parquet formats. We will use the Parquet format as it is more efficient.\n",
    "The data is available in the data folder.\n"
   ],
   "metadata": {
    "collapsed": false
   },
   "id": "66b3ea59c95dc657"
  },
  {
   "cell_type": "code",
   "execution_count": 7,
   "id": "8e013caf",
   "metadata": {
    "ExecuteTime": {
     "end_time": "2023-07-29T07:03:38.169193100Z",
     "start_time": "2023-07-29T07:03:35.749863300Z"
    }
   },
   "outputs": [],
   "source": [
    "df = pd.read_parquet(\"./data/green_tripdata_2021-01.parquet\")\n",
    "\n",
    "df[\"duration\"] = df.lpep_dropoff_datetime - df.lpep_pickup_datetime\n",
    "df.duration = df.duration.apply(lambda td: td.total_seconds() / 60)\n",
    "\n",
    "df = df[(df.duration >= 1) & (df.duration <= 60)]\n",
    "\n",
    "categorical = [\"PULocationID\", \"DOLocationID\"]\n",
    "numerical = [\"trip_distance\"]\n",
    "\n",
    "df[categorical] = df[categorical].astype(str)"
   ]
  },
  {
   "cell_type": "markdown",
   "source": [
    "## EDA\n",
    "Let's try a simple linear regression model with the following features:\n",
    "- PULocationID\n",
    "- DOLocationID\n",
    "- trip_distance\n",
    "- duration"
   ],
   "metadata": {
    "collapsed": false
   },
   "id": "6913da67a2ba078a"
  },
  {
   "cell_type": "code",
   "execution_count": 8,
   "id": "116ff0cc",
   "metadata": {
    "ExecuteTime": {
     "end_time": "2023-07-29T07:03:51.376177600Z",
     "start_time": "2023-07-29T07:03:51.148824700Z"
    }
   },
   "outputs": [
    {
     "data": {
      "text/plain": "9.838799799829628"
     },
     "execution_count": 8,
     "metadata": {},
     "output_type": "execute_result"
    }
   ],
   "source": [
    "train_dicts = df[categorical + numerical].to_dict(orient=\"records\")\n",
    "\n",
    "dv = DictVectorizer()\n",
    "X_train = dv.fit_transform(train_dicts)\n",
    "\n",
    "target = \"duration\"\n",
    "y_train = df[target].values\n",
    "\n",
    "lr = LinearRegression()\n",
    "lr.fit(X_train, y_train)\n",
    "\n",
    "y_pred = lr.predict(X_train)\n",
    "\n",
    "mean_squared_error(y_train, y_pred, squared=False)"
   ]
  },
  {
   "cell_type": "code",
   "execution_count": 9,
   "outputs": [],
   "source": [
    "sns.set(rc={\"figure.figsize\": (12.0, 6)})"
   ],
   "metadata": {
    "collapsed": false,
    "ExecuteTime": {
     "end_time": "2023-07-29T07:03:52.412318700Z",
     "start_time": "2023-07-29T07:03:52.404656300Z"
    }
   },
   "id": "f220181bf63242b1"
  },
  {
   "cell_type": "code",
   "execution_count": 10,
   "id": "b134c97b",
   "metadata": {
    "ExecuteTime": {
     "end_time": "2023-07-29T07:03:54.838623400Z",
     "start_time": "2023-07-29T07:03:53.244008Z"
    }
   },
   "outputs": [
    {
     "data": {
      "text/plain": "<matplotlib.legend.Legend at 0x1ec78f63910>"
     },
     "execution_count": 10,
     "metadata": {},
     "output_type": "execute_result"
    },
    {
     "data": {
      "text/plain": "<Figure size 1200x600 with 1 Axes>",
      "image/png": "[encoded data removed]"
     },
     "metadata": {},
     "output_type": "display_data"
    }
   ],
   "source": [
    "sns.histplot(\n",
    "    y_pred, label=\"prediction\", kde=True, stat=\"density\", linewidth=0, color=\"blue\"\n",
    ")\n",
    "sns.histplot(\n",
    "    y_train, label=\"actual\", kde=True, stat=\"density\", linewidth=0, color=\"orange\"\n",
    ")\n",
    "\n",
    "plt.legend()"
   ]
  },
  {
   "cell_type": "markdown",
   "source": [
    "# Hint\n",
    "There is something wrong with the code below and first data reading code. Can you spot it?"
   ],
   "metadata": {
    "collapsed": false
   },
   "id": "29168bb100429feb"
  },
  {
   "cell_type": "code",
   "execution_count": 11,
   "id": "f9e6479e",
   "metadata": {
    "ExecuteTime": {
     "end_time": "2023-07-29T07:03:59.098545200Z",
     "start_time": "2023-07-29T07:03:59.087842500Z"
    }
   },
   "outputs": [],
   "source": [
    "def read_dataframe(filename):\n",
    "    if filename.endswith(\".csv\"):\n",
    "        df = pd.read_csv(filename)\n",
    "\n",
    "        df.lpep_dropoff_datetime = pd.to_datetime(df.lpep_dropoff_datetime)\n",
    "        df.lpep_pickup_datetime = pd.to_datetime(df.lpep_pickup_datetime)\n",
    "    elif filename.endswith(\".parquet\"):\n",
    "        df = pd.read_parquet(filename)\n",
    "\n",
    "    df[\"duration\"] = df.lpep_dropoff_datetime - df.lpep_pickup_datetime\n",
    "    df.duration = df.duration.apply(lambda td: td.total_seconds() / 60)\n",
    "\n",
    "    df = df[(df.duration >= 1) & (df.duration <= 60)]\n",
    "\n",
    "    categorical = [\"PULocationID\", \"DOLocationID\"]\n",
    "    df[categorical] = df[categorical].astype(str)\n",
    "\n",
    "    return df"
   ]
  },
  {
   "cell_type": "code",
   "execution_count": 12,
   "id": "8029eba0",
   "metadata": {
    "ExecuteTime": {
     "end_time": "2023-07-29T07:04:00.968032100Z",
     "start_time": "2023-07-29T07:04:00.697532Z"
    }
   },
   "outputs": [],
   "source": [
    "df_train = read_dataframe(\"./data/green_tripdata_2021-01.parquet\")\n",
    "df_val = read_dataframe(\"./data/green_tripdata_2021-02.parquet\")"
   ]
  },
  {
   "cell_type": "code",
   "execution_count": 13,
   "id": "f6f2f0eb",
   "metadata": {
    "ExecuteTime": {
     "end_time": "2023-07-29T07:04:01.387676200Z",
     "start_time": "2023-07-29T07:04:01.377086300Z"
    }
   },
   "outputs": [
    {
     "data": {
      "text/plain": "(73908, 61921)"
     },
     "execution_count": 13,
     "metadata": {},
     "output_type": "execute_result"
    }
   ],
   "source": [
    "len(df_train), len(df_val)"
   ]
  },
  {
   "cell_type": "code",
   "execution_count": 14,
   "id": "951d51ef",
   "metadata": {
    "ExecuteTime": {
     "end_time": "2023-07-29T07:04:02.132817600Z",
     "start_time": "2023-07-29T07:04:02.097631700Z"
    }
   },
   "outputs": [],
   "source": [
    "df_train[\"PU_DO\"] = df_train[\"PULocationID\"] + \"_\" + df_train[\"DOLocationID\"]\n",
    "df_val[\"PU_DO\"] = df_val[\"PULocationID\"] + \"_\" + df_val[\"DOLocationID\"]"
   ]
  },
  {
   "cell_type": "code",
   "execution_count": 15,
   "id": "c5cbfc25",
   "metadata": {
    "ExecuteTime": {
     "end_time": "2023-07-29T07:04:02.950535200Z",
     "start_time": "2023-07-29T07:04:02.684793300Z"
    }
   },
   "outputs": [],
   "source": [
    "categorical = [\"PU_DO\"]  #'PULocationID', 'DOLocationID']\n",
    "numerical = [\"trip_distance\"]\n",
    "\n",
    "dv = DictVectorizer()\n",
    "\n",
    "train_dicts = df_train[categorical + numerical].to_dict(orient=\"records\")\n",
    "X_train = dv.fit_transform(train_dicts)\n",
    "\n",
    "val_dicts = df_val[categorical + numerical].to_dict(orient=\"records\")\n",
    "X_val = dv.transform(val_dicts)"
   ]
  },
  {
   "cell_type": "code",
   "execution_count": 16,
   "id": "1e9fb68b",
   "metadata": {
    "ExecuteTime": {
     "end_time": "2023-07-29T07:04:03.478794100Z",
     "start_time": "2023-07-29T07:04:03.464435500Z"
    }
   },
   "outputs": [],
   "source": [
    "target = \"duration\"\n",
    "y_train = df_train[target].values\n",
    "y_val = df_val[target].values"
   ]
  },
  {
   "cell_type": "markdown",
   "source": [
    "## Model\n",
    "Try a few models and see which one performs the best."
   ],
   "metadata": {
    "collapsed": false
   },
   "id": "1a320090b96961e5"
  },
  {
   "cell_type": "code",
   "execution_count": 17,
   "id": "429e2394",
   "metadata": {
    "ExecuteTime": {
     "end_time": "2023-07-29T07:04:05.141827800Z",
     "start_time": "2023-07-29T07:04:05.106652100Z"
    }
   },
   "outputs": [
    {
     "data": {
      "text/plain": "7.758715205596356"
     },
     "execution_count": 17,
     "metadata": {},
     "output_type": "execute_result"
    }
   ],
   "source": [
    "lr = LinearRegression()\n",
    "lr.fit(X_train, y_train)\n",
    "\n",
    "y_pred = lr.predict(X_val)\n",
    "\n",
    "mean_squared_error(y_val, y_pred, squared=False)"
   ]
  },
  {
   "cell_type": "code",
   "execution_count": 20,
   "id": "22bf6f8b",
   "metadata": {
    "ExecuteTime": {
     "end_time": "2023-07-29T07:04:46.122539500Z",
     "start_time": "2023-07-29T07:04:46.106426300Z"
    }
   },
   "outputs": [],
   "source": [
    "with open(\"models/lin_reg.bin\", \"wb\") as f_out:\n",
    "    pickle.dump((dv, lr), f_out)"
   ]
  },
  {
   "cell_type": "code",
   "execution_count": 21,
   "id": "a4999b94",
   "metadata": {
    "ExecuteTime": {
     "end_time": "2023-07-29T07:04:50.759007600Z",
     "start_time": "2023-07-29T07:04:46.813017700Z"
    }
   },
   "outputs": [
    {
     "data": {
      "text/plain": "11.167275941179728"
     },
     "execution_count": 21,
     "metadata": {},
     "output_type": "execute_result"
    }
   ],
   "source": [
    "lr = Lasso(0.01)\n",
    "lr.fit(X_train, y_train)\n",
    "\n",
    "y_pred = lr.predict(X_val)\n",
    "\n",
    "mean_squared_error(y_val, y_pred, squared=False)"
   ]
  },
  {
   "cell_type": "markdown",
   "source": [
    "# Questions\n",
    "- Where is the Ridge regression model?\n",
    "- Did I try different hyperparameters for the Lasso regression model?\n",
    "- Did I try different hyperparameters for the Linear regression model?\n",
    "\n",
    "# Answer for All\n",
    "We don't know. We didn't track anything.\n",
    "\n",
    "# Problem with the data reading code\n",
    "Well, I created a function to read the data but I didn't delete the first data reading code. Soooo code duplication.\n",
    "\n",
    "Now, go to duration-prediction.ipynb and see the difference."
   ],
   "metadata": {
    "collapsed": false
   },
   "id": "6d520202c361c64"
  },
  {
   "cell_type": "code",
   "execution_count": null,
   "outputs": [],
   "source": [],
   "metadata": {
    "collapsed": false
   },
   "id": "2860975ba2252d30"
  }
 ],
 "metadata": {
  "kernelspec": {
   "display_name": "Python 3 (ipykernel)",
   "language": "python",
   "name": "python3"
  },
  "language_info": {
   "codemirror_mode": {
    "name": "ipython",
    "version": 3
   },
   "file_extension": ".py",
   "mimetype": "text/x-python",
   "name": "python",
   "nbconvert_exporter": "python",
   "pygments_lexer": "ipython3",
   "version": "3.9.7"
  }
 },
 "nbformat": 4,
 "nbformat_minor": 5
}
