{
 "cells": [
  {
   "cell_type": "markdown",
   "source": [
    "# NYC Taxi Fare Prediction with MLflow\n",
    "\n",
    "Now that we know not using MLflow is a bad idea, let's see how we can use MLflow to track our experiments."
   ],
   "metadata": {
    "collapsed": false
   },
   "id": "5e5b0f1643ad279"
  },
  {
   "cell_type": "code",
   "execution_count": null,
   "id": "8b135c2b",
   "metadata": {},
   "outputs": [],
   "source": [
    "import setuptools  # To fix a temporary bug with MLflow. Reported in github.\n",
    "import mlflow\n",
    "from mlflow.data.numpy_dataset import from_numpy\n",
    "from mlflow.models import infer_signature\n",
    "from mlflow.tracking import MlflowClient\n",
    "from mlflow.entities import ViewType\n",
    "\n",
    "from sklearn.feature_extraction import DictVectorizer\n",
    "from sklearn.linear_model import LinearRegression\n",
    "from sklearn.linear_model import Lasso\n",
    "from sklearn.linear_model import Ridge\n",
    "from sklearn.tree import DecisionTreeRegressor\n",
    "from sklearn.metrics import mean_squared_error\n",
    "\n",
    "import xgboost as xgb\n",
    "import pandas as pd\n",
    "import pickle\n",
    "\n",
    "from hyperopt import fmin, tpe, hp, STATUS_OK, Trials\n",
    "from hyperopt.pyll import scope"
   ]
  },
  {
   "cell_type": "markdown",
   "source": [
    "## MLFlow Tracking\n",
    "\n",
    "MLflow Tracking is an API and UI for logging parameters, code versions, metrics, and output files when running machine learning experiments. It allows you to:\n",
    "- Log parameters (key-value pairs) and metrics (key-value pairs of numeric values) to files and to a database backend.\n",
    "- Log the current software version.\n",
    "- Save pickled models to files.\n",
    "- Start and end runs.\n",
    "- Search runs based on parameters and metrics.\n",
    "- Visualize runs\n",
    "\n",
    "MLflow Tracking is language agnostic. You can use it with any machine learning library, such as scikit-learn, Keras, PyTorch, and XGBoost.\n",
    "\n",
    "You can start mlflow tracking server with the following command:\n",
    "```bash\n",
    "mlflow server --backend-store-uri sqlite:///mlflow.db\n",
    "```"
   ],
   "metadata": {
    "collapsed": false
   },
   "id": "6fe8c931c6688eb2"
  },
  {
   "cell_type": "code",
   "execution_count": null,
   "outputs": [],
   "source": [
    "MLFLOW_TRACKING_URI = \"http://127.0.0.1:5000\"\n",
    "mlflow.set_tracking_uri(MLFLOW_TRACKING_URI)\n",
    "mlflow.set_experiment(\"morethan101_nyc-taxi-experiment\")"
   ],
   "metadata": {
    "collapsed": false
   },
   "id": "e242f92d1646bcc0"
  },
  {
   "cell_type": "markdown",
   "source": [
    "## Data Preparation\n",
    "We remove the duplication from previous notebook and keep the function to read the data.\n",
    "Using functions to seperates tasks is a good practice. It makes the code more readable and easier to maintain."
   ],
   "metadata": {
    "collapsed": false
   },
   "id": "4d548cadcf8b3944"
  },
  {
   "cell_type": "code",
   "execution_count": null,
   "id": "f9e6479e",
   "metadata": {},
   "outputs": [],
   "source": [
    "def read_dataframe(filename):\n",
    "    df = pd.read_parquet(filename)\n",
    "\n",
    "    df.lpep_dropoff_datetime = pd.to_datetime(df.lpep_dropoff_datetime)\n",
    "    df.lpep_pickup_datetime = pd.to_datetime(df.lpep_pickup_datetime)\n",
    "\n",
    "    df[\"duration\"] = df.lpep_dropoff_datetime - df.lpep_pickup_datetime\n",
    "    df.duration = df.duration.apply(lambda td: td.total_seconds() / 60)\n",
    "\n",
    "    df = df[(df.duration >= 1) & (df.duration <= 60)]\n",
    "\n",
    "    categorical = [\"PULocationID\", \"DOLocationID\"]\n",
    "    df[categorical] = df[categorical].astype(str)\n",
    "\n",
    "    return df"
   ]
  },
  {
   "cell_type": "code",
   "execution_count": null,
   "id": "8029eba0",
   "metadata": {},
   "outputs": [],
   "source": [
    "df_train = read_dataframe(\"./data/green_tripdata_2021-01.parquet\")\n",
    "df_val = read_dataframe(\"./data/green_tripdata_2021-02.parquet\")"
   ]
  },
  {
   "cell_type": "code",
   "execution_count": null,
   "id": "f6f2f0eb",
   "metadata": {},
   "outputs": [],
   "source": [
    "len(df_train), len(df_val)"
   ]
  },
  {
   "cell_type": "code",
   "execution_count": null,
   "id": "951d51ef",
   "metadata": {},
   "outputs": [],
   "source": [
    "df_train[\"PU_DO\"] = df_train[\"PULocationID\"] + \"_\" + df_train[\"DOLocationID\"]\n",
    "df_val[\"PU_DO\"] = df_val[\"PULocationID\"] + \"_\" + df_val[\"DOLocationID\"]"
   ]
  },
  {
   "cell_type": "code",
   "execution_count": null,
   "id": "c5cbfc25",
   "metadata": {},
   "outputs": [],
   "source": [
    "categorical = [\"PU_DO\"]  #'PULocationID', 'DOLocationID']\n",
    "numerical = [\"trip_distance\"]\n",
    "\n",
    "dv = DictVectorizer()\n",
    "\n",
    "train_dicts = df_train[categorical + numerical].to_dict(orient=\"records\")\n",
    "X_train = dv.fit_transform(train_dicts)\n",
    "\n",
    "val_dicts = df_val[categorical + numerical].to_dict(orient=\"records\")\n",
    "X_val = dv.transform(val_dicts)"
   ]
  },
  {
   "cell_type": "code",
   "execution_count": null,
   "id": "1e9fb68b",
   "metadata": {},
   "outputs": [],
   "source": [
    "target = \"duration\"\n",
    "y_train = df_train[target].values\n",
    "y_val = df_val[target].values"
   ]
  },
  {
   "cell_type": "markdown",
   "source": [
    "## Experiments\n",
    "We will use the same model as previous notebook. We will use MLflow to track the experiments.\n",
    "Here you see Lasso model is used, but maybe we have used different models too. But now we can know because we are using MLflow!\n",
    "\n",
    "`start_run()`: Start a new run. If there is an active run, it will be stopped first. This method is a context manager, so you can use it in a with statement to automatically end the run when the code block is exited.\n",
    "\n",
    "`set_tag()`: Set a tag on the currently active run. Tags are used to tag runs for later searching. For example, you can tag your runs with the \"staging\" and \"production\" tags to later search for all runs that were performed in the staging or production environments. Or you can tag the developer who performed the run with their username.\n",
    "\n",
    "`log_param()`: Log a parameter under the current run. Parameters are key-value pairs that you can use to record additional information about your run. For example, you can log the learning rate or regularization parameter of your model as a parameter.\n",
    "\n",
    "`log_metric()`: Log a metric under the current run. Metrics are key-value pairs that you can use to record and compare the performance of your model over time. For example, you can log the accuracy of your model as a metric.\n",
    "\n",
    "`log_artifact()`: Log a local file or directory as an artifact of the run. Artifacts are files or directories that you want to save along with the run information. For example, you can save a model checkpoint, a summary of the model's performance, or plots of model predictions as artifacts. Artifacts are organized as files and directories in the run's artifact URI.\n"
   ],
   "metadata": {
    "collapsed": false
   },
   "id": "7c5b6e947c160036"
  },
  {
   "cell_type": "code",
   "execution_count": null,
   "id": "a4999b94",
   "metadata": {},
   "outputs": [],
   "source": [
    "with mlflow.start_run():\n",
    "    mlflow.set_tag(\"developer\", \"Nusret\")\n",
    "\n",
    "    train_dataset = from_numpy(\n",
    "        X_train.toarray(),\n",
    "        \"data/green_tripdata_2021-01.parquet\",\n",
    "        name=\"green_tripdata_2021-01\",\n",
    "    )\n",
    "    mlflow.log_input(train_dataset, \"train\")\n",
    "\n",
    "    test_dataset = from_numpy(\n",
    "        X_val.toarray(),\n",
    "        \"data/green_tripdata_2021-02.parquet\",\n",
    "        name=\"green_tripdata_2021-02\",\n",
    "    )\n",
    "    mlflow.log_input(test_dataset, \"test\")\n",
    "\n",
    "    alpha = 0.006\n",
    "\n",
    "    model = Ridge(alpha)\n",
    "    model.fit(X_train, y_train)\n",
    "\n",
    "    y_pred = model.predict(X_val)\n",
    "    rmse = mean_squared_error(y_val, y_pred, squared=False)\n",
    "    signature = infer_signature(X_val, y_pred)\n",
    "\n",
    "    mlflow.log_param(\"alpha\", alpha)\n",
    "    mlflow.log_param(\"model\", model.__class__.__name__)\n",
    "    mlflow.log_metric(\"rmse\", rmse)\n",
    "    mlflow.sklearn.log_model(model, \"model\", signature=signature)"
   ]
  },
  {
   "cell_type": "markdown",
   "source": [
    "## Hyperparameter Tuning\n",
    "We will use hyperopt library to tune the hyperparameters of the model. We will use MLflow to track the experiments."
   ],
   "metadata": {
    "collapsed": false
   },
   "id": "2c51c1d181ac2027"
  },
  {
   "cell_type": "code",
   "execution_count": null,
   "outputs": [],
   "source": [
    "mlflow.set_experiment(\"nyc-taxi-experiment\")"
   ],
   "metadata": {
    "collapsed": false
   },
   "id": "43132bca0adfaebd"
  },
  {
   "cell_type": "code",
   "execution_count": null,
   "id": "091ab328",
   "metadata": {},
   "outputs": [],
   "source": [
    "train = xgb.DMatrix(X_train, label=y_train)\n",
    "valid = xgb.DMatrix(X_val, label=y_val)"
   ]
  },
  {
   "cell_type": "code",
   "execution_count": null,
   "id": "c2d84b26",
   "metadata": {},
   "outputs": [],
   "source": [
    "def objective(params):\n",
    "    with mlflow.start_run():\n",
    "        mlflow.log_param(\"model\", \"xgboost\")\n",
    "        mlflow.log_params(params)\n",
    "        booster = xgb.train(\n",
    "            params=params,\n",
    "            dtrain=train,\n",
    "            num_boost_round=2000,\n",
    "            evals=[(valid, \"validation\")],\n",
    "            early_stopping_rounds=50,\n",
    "        )\n",
    "        y_pred = booster.predict(valid)\n",
    "        rmse = mean_squared_error(y_val, y_pred, squared=False)\n",
    "        mlflow.log_metric(\"rmse\", rmse)\n",
    "\n",
    "    return {\"loss\": rmse, \"status\": STATUS_OK}"
   ]
  },
  {
   "cell_type": "code",
   "execution_count": null,
   "id": "6b1f77f5",
   "metadata": {},
   "outputs": [],
   "source": [
    "search_space = {\n",
    "    \"max_depth\": scope.int(hp.quniform(\"max_depth\", 4, 100, 1)),\n",
    "    \"learning_rate\": hp.loguniform(\"learning_rate\", -3, 0),\n",
    "    \"reg_alpha\": hp.loguniform(\"reg_alpha\", -5, -1),\n",
    "    \"reg_lambda\": hp.loguniform(\"reg_lambda\", -6, -1),\n",
    "    \"min_child_weight\": hp.loguniform(\"min_child_weight\", -1, 3),\n",
    "    \"objective\": \"reg:squarederror\",\n",
    "    \"seed\": 42,\n",
    "}\n",
    "\n",
    "trials = Trials()\n",
    "\n",
    "best_result = fmin(\n",
    "    fn=objective, space=search_space, algo=tpe.suggest, max_evals=10, trials=trials\n",
    ")"
   ]
  },
  {
   "cell_type": "code",
   "execution_count": null,
   "outputs": [],
   "source": [
    "search_space = {\n",
    "    \"max_depth\": scope.int(hp.quniform(\"max_depth\", 10, 40, 1)),\n",
    "    \"learning_rate\": hp.loguniform(\"learning_rate\", -2, -1),\n",
    "    \"reg_alpha\": hp.loguniform(\"reg_alpha\", -6, -3),\n",
    "    \"reg_lambda\": hp.loguniform(\"reg_lambda\", -6, -1),\n",
    "    \"min_child_weight\": hp.loguniform(\"min_child_weight\", -3, 1),\n",
    "    \"objective\": \"reg:squarederror\",\n",
    "    \"seed\": 42,\n",
    "}\n",
    "\n",
    "best_result = fmin(\n",
    "    fn=objective,\n",
    "    space=search_space,\n",
    "    algo=tpe.suggest,\n",
    "    max_evals=20,\n",
    "    trials=trials,\n",
    ")"
   ],
   "metadata": {
    "collapsed": false
   },
   "id": "d4677d0002d9854d"
  },
  {
   "cell_type": "markdown",
   "source": [
    "This image is what you will see in MLflow UI.\n",
    "\n",
    "![mlflow-ui](images/mlflow_ui.png)\n",
    "\n",
    "And this is the result of the hyperparameter tuning for comparing the results. When you look closely, you will see that you can reduce the interval of some hyperparameters.\n",
    "\n",
    "\n",
    "![mlflow-ui](images/mlflow_ui_2.png)\n",
    "\n",
    "\n",
    "## Train the best model and save the model this time!"
   ],
   "metadata": {
    "collapsed": false
   },
   "id": "85505013c6cb434b"
  },
  {
   "cell_type": "code",
   "execution_count": null,
   "outputs": [],
   "source": [
    "client = MlflowClient(tracking_uri=MLFLOW_TRACKING_URI)\n",
    "client.search_experiments()"
   ],
   "metadata": {
    "collapsed": false
   },
   "id": "55237e1c199421ea"
  },
  {
   "cell_type": "code",
   "execution_count": null,
   "outputs": [],
   "source": [
    "runs = client.search_runs(\n",
    "    experiment_ids=\"2\",\n",
    "    filter_string=\"metrics.rmse < 7\",\n",
    "    run_view_type=ViewType.ACTIVE_ONLY,\n",
    "    max_results=1,\n",
    "    order_by=[\"metrics.rmse ASC\"],\n",
    ")\n",
    "\n",
    "params = runs[0].data.params\n",
    "params"
   ],
   "metadata": {
    "collapsed": false
   },
   "id": "5d720eda91f0ccbe"
  },
  {
   "cell_type": "code",
   "execution_count": null,
   "id": "0e8cd729",
   "metadata": {},
   "outputs": [],
   "source": [
    "del params[\"model\"]\n",
    "\n",
    "with mlflow.start_run():\n",
    "    train = xgb.DMatrix(X_train, label=y_train)\n",
    "    valid = xgb.DMatrix(X_val, label=y_val)\n",
    "\n",
    "    # Convert to float if it's all digits or else leave it as it is\n",
    "    best_params = {k: float(v) if v.isdigit() else v for k, v in params.items()}\n",
    "    best_params[\"seed\"] = int(best_params[\"seed\"])\n",
    "    best_params[\"max_depth\"] = int(best_params[\"max_depth\"])\n",
    "\n",
    "    mlflow.log_params(best_params)\n",
    "\n",
    "    booster = xgb.train(\n",
    "        params=best_params,\n",
    "        dtrain=train,\n",
    "        num_boost_round=1000,\n",
    "        evals=[(valid, \"validation\")],\n",
    "        early_stopping_rounds=50,\n",
    "    )\n",
    "\n",
    "    y_pred = booster.predict(valid)\n",
    "    rmse = mean_squared_error(y_val, y_pred, squared=False)\n",
    "    mlflow.log_metric(\"rmse\", rmse)\n",
    "\n",
    "    with open(\"models/preprocessor.b\", \"wb\") as f_out:\n",
    "        pickle.dump(dv, f_out)\n",
    "    mlflow.log_artifact(\"models/preprocessor.b\", artifact_path=\"preprocessor\")\n",
    "\n",
    "    mlflow.xgboost.log_model(booster, artifact_path=\"models_mlflow\")"
   ]
  },
  {
   "cell_type": "markdown",
   "source": [
    "## Auto-logging\n",
    "\n",
    "Auto-logging captures lots of information about model parameters for you! You can see the parameters and metrics in the UI after you run the code below."
   ],
   "metadata": {
    "collapsed": false
   },
   "id": "4dab77410e3a97b5"
  },
  {
   "cell_type": "code",
   "execution_count": null,
   "outputs": [],
   "source": [
    "mlflow.set_experiment(\"mlops_taxi_fare_modeling_sklearn\")"
   ],
   "metadata": {
    "collapsed": false
   },
   "id": "307b9d4564c265a5"
  },
  {
   "cell_type": "code",
   "execution_count": null,
   "id": "87614b82",
   "metadata": {},
   "outputs": [],
   "source": [
    "mlflow.sklearn.autolog()\n",
    "\n",
    "models = [Lasso(), Ridge(), LinearRegression(), DecisionTreeRegressor()]\n",
    "\n",
    "for model in models:\n",
    "    with mlflow.start_run():\n",
    "        print(model.__class__.__name__)\n",
    "        mlflow.log_param(\"train-data-path\", \"./data/green_tripdata_2021-01.csv\")\n",
    "        mlflow.log_param(\"valid-data-path\", \"./data/green_tripdata_2021-02.csv\")\n",
    "        mlflow.log_artifact(\"models/preprocessor.b\", artifact_path=\"preprocessor\")\n",
    "\n",
    "        model.fit(X_train.toarray(), y_train)\n",
    "\n",
    "        y_pred = model.predict(X_val.toarray())\n",
    "        rmse = mean_squared_error(y_val, y_pred, squared=False)\n",
    "        mlflow.log_metric(\"rmse\", rmse)"
   ]
  },
  {
   "cell_type": "code",
   "execution_count": null,
   "outputs": [],
   "source": [],
   "metadata": {
    "collapsed": false
   },
   "id": "c11c963ce179cb67"
  }
 ],
 "metadata": {
  "interpreter": {
   "hash": "0848c9d6c7d415ad6c477ff7ff8e98694d1a4aa96d0deee89244642e6b630036"
  },
  "kernelspec": {
   "display_name": "Python 3 (ipykernel)",
   "language": "python",
   "name": "python3"
  },
  "language_info": {
   "codemirror_mode": {
    "name": "ipython",
    "version": 3
   },
   "file_extension": ".py",
   "mimetype": "text/x-python",
   "name": "python",
   "nbconvert_exporter": "python",
   "pygments_lexer": "ipython3",
   "version": "3.9.12"
  }
 },
 "nbformat": 4,
 "nbformat_minor": 5
}
